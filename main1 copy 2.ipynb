{
 "cells": [
  {
   "cell_type": "code",
   "execution_count": null,
   "metadata": {},
   "outputs": [],
   "source": [
    "from transformers import GenerationConfig, LlamaForCausalLM, LlamaTokenizer\n",
    "import torch"
   ]
  },
  {
   "cell_type": "code",
   "execution_count": null,
   "metadata": {},
   "outputs": [],
   "source": [
    "MODEL_NAME = \"meta-llama/Llama-2-7b-chat-hf\"\n",
    "\n",
    "tokenizer = LlamaTokenizer.from_pretrained(MODEL_NAME)\n",
    "model = LlamaForCausalLM.from_pretrained(\n",
    "    MODEL_NAME,\n",
    "    return_dict=True,\n",
    "    # load_in_8bit=True,\n",
    "    torch_dtype=torch.float16,\n",
    "    device_map=\"auto\",\n",
    ")"
   ]
  },
  {
   "cell_type": "code",
   "execution_count": null,
   "metadata": {},
   "outputs": [],
   "source": [
    "generation_config = GenerationConfig.from_pretrained(MODEL_NAME)\n",
    "generation_config"
   ]
  },
  {
   "cell_type": "code",
   "execution_count": null,
   "metadata": {},
   "outputs": [],
   "source": [
    "model = model.eval()\n"
   ]
  },
  {
   "cell_type": "code",
   "execution_count": null,
   "metadata": {},
   "outputs": [],
   "source": [
    "prompt = \"My name is Vikas\"\n",
    "# prompt = \"Names of my friends are: Anmol, Aryan, Joel. How many friends do I have?\"\n",
    "prompt = \"Do you recall the names of my three friends?\"\n"
   ]
  },
  {
   "cell_type": "code",
   "execution_count": null,
   "metadata": {},
   "outputs": [],
   "source": [
    "encoding = tokenizer(prompt, return_tensors=\"pt\").to(model.device)"
   ]
  },
  {
   "cell_type": "code",
   "execution_count": null,
   "metadata": {},
   "outputs": [],
   "source": [
    "print(encoding)\n",
    "print(encoding.input_ids)\n",
    "print(encoding.input_ids.shape)"
   ]
  },
  {
   "cell_type": "code",
   "execution_count": null,
   "metadata": {},
   "outputs": [],
   "source": [
    "# %%time\n",
    "with torch.no_grad():\n",
    "    outputs = model.generate(\n",
    "        **encoding,\n",
    "        max_new_tokens=256,\n",
    "        temperature=0.0001,\n",
    "        generation_config=generation_config,\n",
    "    )"
   ]
  },
  {
   "cell_type": "code",
   "execution_count": null,
   "metadata": {},
   "outputs": [],
   "source": [
    "print(\"len\", len(outputs))\n",
    "print(\"shape\", outputs.shape)\n",
    "\n"
   ]
  },
  {
   "cell_type": "code",
   "execution_count": null,
   "metadata": {},
   "outputs": [],
   "source": [
    "\n",
    "output_text = tokenizer.decode(outputs[0], skip_special_tokens=True)\n",
    "print(output_text)"
   ]
  },
  {
   "cell_type": "code",
   "execution_count": null,
   "metadata": {},
   "outputs": [],
   "source": [
    "answer_tokens = outputs[:, encoding.input_ids.shape[1] :]\n",
    "\n",
    "\n",
    "print(\"Original shape\", outputs.shape)\n",
    "print(\"Inpute Shape\", encoding.input_ids.shape)\n",
    "print(\"New shape\", answer_tokens.shape)\n",
    "\n",
    "\n",
    "\n",
    "output_text = tokenizer.decode(answer_tokens[0], skip_special_tokens=True).strip()\n",
    "print(output_text)"
   ]
  },
  {
   "cell_type": "code",
   "execution_count": null,
   "metadata": {},
   "outputs": [],
   "source": [
    "def format_prompt_old(prompt: str, system_prompt: str) -> str:\n",
    "    return f\"\"\"\n",
    "{system_prompt}\n",
    "{prompt}\n",
    "\"\"\".strip()"
   ]
  },
  {
   "cell_type": "code",
   "execution_count": null,
   "metadata": {},
   "outputs": [],
   "source": [
    "format_prompt(\"vikas\",\"verma\")"
   ]
  },
  {
   "cell_type": "code",
   "execution_count": null,
   "metadata": {},
   "outputs": [],
   "source": [
    "def generate_response(prompt: str, max_new_tokens: int = 128, temperature: float = 0.001) -> str:\n",
    "    encoding = tokenizer(prompt, return_tensors=\"pt\").to(model.device)\n",
    "    with torch.inference_mode():\n",
    "        outputs = model.generate(\n",
    "            **encoding,\n",
    "            max_new_tokens=max_new_tokens,\n",
    "            temperature=0.001,\n",
    "            generation_config=generation_config,\n",
    "\n",
    "            do_sample = True,\n",
    "        )\n",
    "    answer_tokens = outputs[:, encoding.input_ids.shape[1] :]\n",
    "    return tokenizer.decode(answer_tokens[0], skip_special_tokens=True)\n",
    "     "
   ]
  },
  {
   "cell_type": "code",
   "execution_count": null,
   "metadata": {},
   "outputs": [],
   "source": [
    "l = generate_response(prompt, max_new_tokens =  128, temperature = 0.001)\n",
    "print(l)"
   ]
  },
  {
   "cell_type": "code",
   "execution_count": null,
   "metadata": {},
   "outputs": [],
   "source": [
    "prompt = \"\"\"\n",
    "Write an email to a director flaunting about your movie career\n",
    "\"\"\".strip()\n",
    "response = generate_response(format_prompt(prompt, SYSTEM_PROMPT), max_new_tokens=512)\n",
    "print(response)"
   ]
  },
  {
   "cell_type": "code",
   "execution_count": null,
   "metadata": {},
   "outputs": [],
   "source": [
    "format_prompt(prompt, SYSTEM_PROMPT)"
   ]
  },
  {
   "cell_type": "code",
   "execution_count": null,
   "metadata": {},
   "outputs": [],
   "source": [
    "prompt = \"\"\"\n",
    "Fake News is becoming a huge problem today.\n",
    "\"\"\".strip()\n",
    "responses = []\n",
    "for _ in range(10):\n",
    "    response = generate_response(format_prompt(prompt, SYSTEM_PROMPT), max_new_tokens=200)\n",
    "    print(response)\n",
    "    SYSTEM_PROMPT = \"You know that \" + response"
   ]
  },
  {
   "cell_type": "code",
   "execution_count": null,
   "metadata": {},
   "outputs": [],
   "source": []
  },
  {
   "cell_type": "code",
   "execution_count": null,
   "metadata": {},
   "outputs": [],
   "source": [
    "SYSTEM_PROMPT = \"\"\"\n",
    "Write a response that answers the request according to the conversation history below. Answer in one sentence only.\n",
    "\"\"\"\n",
    "# prompt = input(\"Enter First Input\")\n",
    "initial_length = len(SYSTEM_PROMPT)\n",
    "prompt = \"Hi.\"\n",
    "\n",
    "\n",
    "\n",
    "firstgo = True\n",
    "noresponse = False\n",
    "i = 0\n",
    "errorCount = 0\n",
    "while i < 10:\n",
    "    print(f\"i {i} errorCount {errorCount}\")\n",
    "    if errorCount > 10:\n",
    "        print(\"Too many errors, breaking out.\")\n",
    "        break\n",
    "    if firstgo:\n",
    "        SYSTEM_PROMPT+='\\nRequest: '+prompt\n",
    "        firstgo = False\n",
    "    elif not noresponse:\n",
    "        prompt = input(\"Enter Reply\")\n",
    "    else:\n",
    "        pass\n",
    "\n",
    "    response = generate_response(format_prompt(prompt, SYSTEM_PROMPT), max_new_tokens=200, temperature= 0.001)\n",
    "\n",
    "    # if len(response) < 3:\n",
    "    #     noresponse = True\n",
    "    #     errorCount += 1\n",
    "    #     continue\n",
    "    # else:\n",
    "    #     noresponse = False\n",
    "    print(\"Request: \", prompt)\n",
    "    print(\"Response:\", response)\n",
    "    SYSTEM_PROMPT+='\\nResponse: '+ response\n",
    "    i += 1\n",
    "    "
   ]
  },
  {
   "cell_type": "code",
   "execution_count": null,
   "metadata": {},
   "outputs": [],
   "source": [
    "response"
   ]
  },
  {
   "cell_type": "code",
   "execution_count": null,
   "metadata": {},
   "outputs": [],
   "source": [
    "print(SYSTEM_PROMPT)"
   ]
  },
  {
   "cell_type": "code",
   "execution_count": null,
   "metadata": {},
   "outputs": [],
   "source": [
    "a = \"Hi\"\n",
    "b = \"\"\"\n",
    "Write a response that answers the request according to the conversation history below. Answer in one sentence only.\n",
    "\"\"\"\n",
    "b +='\\nRequest: '+prompt\n",
    "print(format_prompt(a, b))"
   ]
  },
  {
   "cell_type": "code",
   "execution_count": null,
   "metadata": {},
   "outputs": [],
   "source": [
    "theinput = \"\"\"<s>[INST] <<SYS>>\n",
    "{{ \n",
    "    Write a response that answers the request according to the conversation history below. Answer in one sentence only.\\nRequest: Hello AI, My name is Vikas, what is your name?\\nResponse: Hello Vikas! My name is LLaMA, I'm a large language model trained by a team of researcher at Meta AI. How are you today?\\n\n",
    "}}\n",
    "<</SYS>>\n",
    "\n",
    "xxx [/INST] yyy </s><s>[INST] xxx [/INST] yyy </s><s>[INST] xxx [/INST] yyy </s><s>[INST] {{ I am very good. The day is sunny, how is the weather there where you are? }} [/INST]\"\"\"\n",
    "generate_response(theinput, 200, 0.001)"
   ]
  },
  {
   "cell_type": "code",
   "execution_count": null,
   "metadata": {},
   "outputs": [],
   "source": [
    "theinput = \"\"\"<s>[INST] <<SYS>>\n",
    "{{ \n",
    "    Write a response that answers the request according to the conversation history below. Answer in one short sentence only.\n",
    "    Request: Hello AI, My name is Vikas, what is your name?\n",
    "    Response: Hello Vikas! My name is LLaMA, I'm a large language model trained by a team of researcher at Meta AI. How are you today?\n",
    "    Request: I am very good. Where do you live? \n",
    "    Response: Hello Vikas! I'm just an AI, I don't have a physical body or a specific location where I live. I exist in the form of computer code and data, and I can be accessed from anywhere in the world where there is an internet connection.\n",
    "}}\n",
    "<</SYS>>\n",
    "\n",
    " [/INST]  </s><s>[INST]  [/INST]  </s><s>[INST]  [/INST]  </s><s>[INST] {{ But I am using you without internet }} [/INST]\"\"\"\n",
    "generate_response(theinput, 200, 0.001)"
   ]
  },
  {
   "cell_type": "code",
   "execution_count": null,
   "metadata": {},
   "outputs": [],
   "source": [
    "def format_prompt(prompt, history=''):\n",
    "    return f\"\"\"<s>[INST] <<SYS>>\n",
    "{{ \n",
    "    Write a response that answers the request according to the conversation history below. Answer in one short sentence only.\n",
    "    {history}\n",
    "}}\n",
    "<</SYS>>\n",
    "\n",
    " [/INST]  </s><s>[INST]  [/INST]  </s><s>[INST]  [/INST]  </s><s>[INST] {{ {prompt} }} [/INST]\"\"\""
   ]
  },
  {
   "cell_type": "code",
   "execution_count": null,
   "metadata": {},
   "outputs": [],
   "source": [
    "theinput = \"\"\"<s>[INST] <<SYS>>\n",
    "{{ \n",
    "    Write a response that answers the request according to the conversation history below. Answer in one short sentence only.\n",
    "\n",
    "}}\n",
    "<</SYS>>\n",
    "\n",
    " [/INST]  </s><s>[INST]  [/INST]  </s><s>[INST]  [/INST]  </s><s>[INST] {{ But I am using you without internet }} [/INST]\"\"\"\n",
    "generate_response(theinput, 200, 0.001)"
   ]
  },
  {
   "cell_type": "code",
   "execution_count": null,
   "metadata": {},
   "outputs": [],
   "source": [
    "prompt = 'Fake News is a real problem. What do you think about it?'\n",
    "import sys\n",
    "history = '''Request: Hi\n",
    "Response:  Hello!\n",
    "'''\n",
    "for _ in range(50):\n",
    "\n",
    "    print(history)\n",
    "    print(\"*\" * 50)\n",
    "    while True:\n",
    "        prompt = input()\n",
    "        if len(prompt) == 0:\n",
    "            continue\n",
    "        else:\n",
    "            break\n",
    "    if prompt == 'quit':\n",
    "        break\n",
    "    the_output = generate_response(format_prompt(prompt, history), 200, 0.001)\n",
    "    history += \"Request: \" + prompt + '\\n'\n",
    "    history += \"Response: \" + the_output + '\\n\\n'"
   ]
  },
  {
   "cell_type": "code",
   "execution_count": null,
   "metadata": {},
   "outputs": [],
   "source": [
    "print(history)"
   ]
  },
  {
   "cell_type": "code",
   "execution_count": null,
   "metadata": {},
   "outputs": [],
   "source": []
  }
 ],
 "metadata": {
  "kernelspec": {
   "display_name": "lams",
   "language": "python",
   "name": "python3"
  },
  "language_info": {
   "codemirror_mode": {
    "name": "ipython",
    "version": 3
   },
   "file_extension": ".py",
   "mimetype": "text/x-python",
   "name": "python",
   "nbconvert_exporter": "python",
   "pygments_lexer": "ipython3",
   "version": "3.11.5"
  },
  "orig_nbformat": 4
 },
 "nbformat": 4,
 "nbformat_minor": 2
}
